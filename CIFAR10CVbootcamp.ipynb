{
  "nbformat": 4,
  "nbformat_minor": 0,
  "metadata": {
    "colab": {
      "name": "CIFAR10CVbootcamp.ipynb",
      "provenance": [],
      "authorship_tag": "ABX9TyOcLIYlNYEftRk1ZYM0Urzx",
      "include_colab_link": true
    },
    "kernelspec": {
      "name": "python3",
      "display_name": "Python 3"
    }
  },
  "cells": [
    {
      "cell_type": "markdown",
      "metadata": {
        "id": "view-in-github",
        "colab_type": "text"
      },
      "source": [
        "<a href=\"https://colab.research.google.com/github/AddeshB/computer-vision-bootcamp/blob/master/CIFAR10CVbootcamp.ipynb\" target=\"_parent\"><img src=\"https://colab.research.google.com/assets/colab-badge.svg\" alt=\"Open In Colab\"/></a>"
      ]
    },
    {
      "cell_type": "code",
      "metadata": {
        "id": "8gB9UtiNWe9U"
      },
      "source": [
        "from keras import layers\n",
        "from keras import models\n",
        "model = models.Sequential() \n",
        "model.add(layers.Conv2D(32, (3,3), activation='relu', padding='same', kernel_initializer='he_uniform', input_shape=(32, 32, 3))) \n",
        "model.add(layers.Conv2D(64, (3, 3),  padding='same', kernel_initializer='he_uniform', activation='relu'))\n",
        "model.add(layers.MaxPooling2D((2, 2))) \n",
        "model.add(layers.Dropout(0.2))\n",
        "model.add(layers.Conv2D(64, (3, 3),  padding='same', kernel_initializer='he_uniform', activation='relu')) \n",
        "model.add(layers.Conv2D(128, (3, 3),  padding='same', kernel_initializer='he_uniform', activation='relu'))\n",
        "model.add(layers.MaxPooling2D((2, 2))) \n",
        "model.add(layers.Dropout(0.2)) \n",
        "model.add(layers.Flatten())\n",
        "model.add(layers.Dense(128,  activation='relu'))\n",
        "model.add(layers.Dense(10, activation='softmax'))"
      ],
      "execution_count": null,
      "outputs": []
    },
    {
      "cell_type": "markdown",
      "metadata": {
        "id": "84Mr_YwM0u4_"
      },
      "source": [
        "created convolutional base following 2 blocks of Conv2D-MaxPooling2D with Dropout layers to reduce over-fitting"
      ]
    },
    {
      "cell_type": "code",
      "metadata": {
        "id": "3IhXGDmSahvj"
      },
      "source": [
        "from keras import optimizers\n",
        "model.compile(loss='categorical_crossentropy', optimizer='adam',\n",
        "                      metrics=['acc'])\n"
      ],
      "execution_count": null,
      "outputs": []
    },
    {
      "cell_type": "markdown",
      "metadata": {
        "id": "IBQ2ZvMM1EWQ"
      },
      "source": [
        "compiled model using categorical cross-entrophy as the loss function and the Adam optimizer"
      ]
    },
    {
      "cell_type": "code",
      "metadata": {
        "colab": {
          "base_uri": "https://localhost:8080/"
        },
        "id": "4Ojqtbq0egbc",
        "outputId": "c14f57a9-cb09-48e8-a9b5-71934365ff79"
      },
      "source": [
        "from keras.datasets import cifar10\n",
        "from keras.utils import to_categorical\n",
        "\n",
        "(inpTrain, tarTrain), (inpTest, tarTest) = cifar10.load_data()\n",
        "tarTrain = to_categorical(tarTrain)\n",
        "tarTest = to_categorical(tarTest)\n"
      ],
      "execution_count": null,
      "outputs": [
        {
          "output_type": "stream",
          "text": [
            "Downloading data from https://www.cs.toronto.edu/~kriz/cifar-10-python.tar.gz\n",
            "170500096/170498071 [==============================] - 6s 0us/step\n"
          ],
          "name": "stdout"
        }
      ]
    },
    {
      "cell_type": "markdown",
      "metadata": {
        "id": "N0cJF3Rv1Q-h"
      },
      "source": [
        "downloaded dataset and prepared it for processing"
      ]
    },
    {
      "cell_type": "code",
      "metadata": {
        "id": "3E8Zfa5Me_0W"
      },
      "source": [
        "from keras.preprocessing.image import ImageDataGenerator\n",
        "import matplotlib.pyplot as plt\n",
        "tempInpTrain = inpTrain.astype('float32')\n",
        "tempInpTest= inpTest.astype('float32')\n",
        "\n",
        "newInpTrain= tempInpTrain / 255.0\n",
        "newInpTest = tempInpTest / 255.0\n",
        "genData = ImageDataGenerator(rotation_range=40,width_shift_range=0.1, height_shift_range=0.1, horizontal_flip=True)\n",
        "iterTrain = genData.flow(newInpTrain, tarTrain, batch_size=64)\n",
        "\n",
        "\n",
        "\n"
      ],
      "execution_count": null,
      "outputs": []
    },
    {
      "cell_type": "markdown",
      "metadata": {
        "id": "8Vp-UaHx1XKC"
      },
      "source": [
        "used data augmentation to further reduce overfitting by applying transformations to the images"
      ]
    },
    {
      "cell_type": "code",
      "metadata": {
        "colab": {
          "base_uri": "https://localhost:8080/"
        },
        "id": "UJlspy1x8-bx",
        "outputId": "0379a53b-5cbe-476c-96bc-9a8260d45568"
      },
      "source": [
        "history = model.fit_generator(iterTrain, steps_per_epoch=700, epochs=50, validation_data=(newInpTest, tarTest))\n",
        "\n",
        "\n"
      ],
      "execution_count": 8,
      "outputs": [
        {
          "output_type": "stream",
          "text": [
            "/usr/local/lib/python3.6/dist-packages/tensorflow/python/keras/engine/training.py:1844: UserWarning: `Model.fit_generator` is deprecated and will be removed in a future version. Please use `Model.fit`, which supports generators.\n",
            "  warnings.warn('`Model.fit_generator` is deprecated and '\n"
          ],
          "name": "stderr"
        },
        {
          "output_type": "stream",
          "text": [
            "Epoch 1/50\n",
            "700/700 [==============================] - 352s 503ms/step - loss: 1.6545 - acc: 0.3997 - val_loss: 1.3504 - val_acc: 0.5092\n",
            "Epoch 2/50\n",
            "700/700 [==============================] - 354s 505ms/step - loss: 1.3420 - acc: 0.5165 - val_loss: 1.1063 - val_acc: 0.6064\n",
            "Epoch 3/50\n",
            "700/700 [==============================] - 353s 504ms/step - loss: 1.1932 - acc: 0.5756 - val_loss: 1.1312 - val_acc: 0.6128\n",
            "Epoch 4/50\n",
            "700/700 [==============================] - 353s 505ms/step - loss: 1.1027 - acc: 0.6065 - val_loss: 1.0027 - val_acc: 0.6543\n",
            "Epoch 5/50\n",
            "700/700 [==============================] - 354s 506ms/step - loss: 1.0455 - acc: 0.6324 - val_loss: 0.9992 - val_acc: 0.6567\n",
            "Epoch 6/50\n",
            "700/700 [==============================] - 355s 508ms/step - loss: 0.9996 - acc: 0.6464 - val_loss: 0.8546 - val_acc: 0.7030\n",
            "Epoch 7/50\n",
            "700/700 [==============================] - 355s 508ms/step - loss: 0.9602 - acc: 0.6632 - val_loss: 0.9272 - val_acc: 0.6848\n",
            "Epoch 8/50\n",
            "700/700 [==============================] - 351s 502ms/step - loss: 0.9222 - acc: 0.6731 - val_loss: 0.9250 - val_acc: 0.6905\n",
            "Epoch 9/50\n",
            "700/700 [==============================] - 353s 504ms/step - loss: 0.8980 - acc: 0.6857 - val_loss: 0.8687 - val_acc: 0.7105\n",
            "Epoch 10/50\n",
            "700/700 [==============================] - 351s 502ms/step - loss: 0.8726 - acc: 0.6957 - val_loss: 0.7962 - val_acc: 0.7271\n",
            "Epoch 11/50\n",
            "700/700 [==============================] - 350s 500ms/step - loss: 0.8521 - acc: 0.7008 - val_loss: 0.8166 - val_acc: 0.7272\n",
            "Epoch 12/50\n",
            "700/700 [==============================] - 351s 502ms/step - loss: 0.8342 - acc: 0.7070 - val_loss: 0.7576 - val_acc: 0.7391\n",
            "Epoch 13/50\n",
            "700/700 [==============================] - 351s 502ms/step - loss: 0.8218 - acc: 0.7124 - val_loss: 0.7601 - val_acc: 0.7446\n",
            "Epoch 14/50\n",
            "700/700 [==============================] - 350s 501ms/step - loss: 0.8041 - acc: 0.7170 - val_loss: 0.7779 - val_acc: 0.7419\n",
            "Epoch 15/50\n",
            "700/700 [==============================] - 350s 499ms/step - loss: 0.7868 - acc: 0.7263 - val_loss: 0.7892 - val_acc: 0.7382\n",
            "Epoch 16/50\n",
            "700/700 [==============================] - 349s 499ms/step - loss: 0.7782 - acc: 0.7268 - val_loss: 0.7375 - val_acc: 0.7535\n",
            "Epoch 17/50\n",
            "700/700 [==============================] - 350s 500ms/step - loss: 0.7689 - acc: 0.7335 - val_loss: 0.7689 - val_acc: 0.7418\n",
            "Epoch 18/50\n",
            "700/700 [==============================] - 350s 500ms/step - loss: 0.7589 - acc: 0.7337 - val_loss: 0.7708 - val_acc: 0.7446\n",
            "Epoch 19/50\n",
            "700/700 [==============================] - 356s 509ms/step - loss: 0.7467 - acc: 0.7373 - val_loss: 0.7000 - val_acc: 0.7623\n",
            "Epoch 20/50\n",
            "700/700 [==============================] - 377s 539ms/step - loss: 0.7398 - acc: 0.7424 - val_loss: 0.7265 - val_acc: 0.7557\n",
            "Epoch 21/50\n",
            "700/700 [==============================] - 359s 513ms/step - loss: 0.7337 - acc: 0.7432 - val_loss: 0.6795 - val_acc: 0.7679\n",
            "Epoch 22/50\n",
            "700/700 [==============================] - 357s 510ms/step - loss: 0.7235 - acc: 0.7499 - val_loss: 0.7236 - val_acc: 0.7597\n",
            "Epoch 23/50\n",
            "700/700 [==============================] - 356s 509ms/step - loss: 0.7188 - acc: 0.7492 - val_loss: 0.7508 - val_acc: 0.7519\n",
            "Epoch 24/50\n",
            "700/700 [==============================] - 354s 506ms/step - loss: 0.7067 - acc: 0.7532 - val_loss: 0.6970 - val_acc: 0.7708\n",
            "Epoch 25/50\n",
            "700/700 [==============================] - 353s 505ms/step - loss: 0.6980 - acc: 0.7557 - val_loss: 0.6959 - val_acc: 0.7699\n",
            "Epoch 26/50\n",
            "700/700 [==============================] - 353s 505ms/step - loss: 0.6966 - acc: 0.7546 - val_loss: 0.6816 - val_acc: 0.7735\n",
            "Epoch 27/50\n",
            "700/700 [==============================] - 354s 506ms/step - loss: 0.6861 - acc: 0.7599 - val_loss: 0.7845 - val_acc: 0.7468\n",
            "Epoch 28/50\n",
            "700/700 [==============================] - 353s 504ms/step - loss: 0.6858 - acc: 0.7619 - val_loss: 0.6612 - val_acc: 0.7795\n",
            "Epoch 29/50\n",
            "700/700 [==============================] - 353s 504ms/step - loss: 0.6758 - acc: 0.7622 - val_loss: 0.7024 - val_acc: 0.7704\n",
            "Epoch 30/50\n",
            "700/700 [==============================] - 354s 506ms/step - loss: 0.6704 - acc: 0.7658 - val_loss: 0.7535 - val_acc: 0.7510\n",
            "Epoch 31/50\n",
            "700/700 [==============================] - 352s 503ms/step - loss: 0.6638 - acc: 0.7664 - val_loss: 0.6615 - val_acc: 0.7829\n",
            "Epoch 32/50\n",
            "700/700 [==============================] - 353s 504ms/step - loss: 0.6604 - acc: 0.7705 - val_loss: 0.6443 - val_acc: 0.7832\n",
            "Epoch 33/50\n",
            "700/700 [==============================] - 355s 506ms/step - loss: 0.6597 - acc: 0.7697 - val_loss: 0.6080 - val_acc: 0.7984\n",
            "Epoch 34/50\n",
            "700/700 [==============================] - 354s 506ms/step - loss: 0.6539 - acc: 0.7700 - val_loss: 0.6721 - val_acc: 0.7777\n",
            "Epoch 35/50\n",
            "700/700 [==============================] - 355s 508ms/step - loss: 0.6468 - acc: 0.7750 - val_loss: 0.7252 - val_acc: 0.7730\n",
            "Epoch 36/50\n",
            "700/700 [==============================] - 357s 510ms/step - loss: 0.6464 - acc: 0.7755 - val_loss: 0.7164 - val_acc: 0.7723\n",
            "Epoch 37/50\n",
            "700/700 [==============================] - 356s 509ms/step - loss: 0.6388 - acc: 0.7763 - val_loss: 0.6523 - val_acc: 0.7857\n",
            "Epoch 38/50\n",
            "700/700 [==============================] - 354s 506ms/step - loss: 0.6387 - acc: 0.7775 - val_loss: 0.6497 - val_acc: 0.7920\n",
            "Epoch 39/50\n",
            "700/700 [==============================] - 353s 504ms/step - loss: 0.6307 - acc: 0.7805 - val_loss: 0.6833 - val_acc: 0.7815\n",
            "Epoch 40/50\n",
            "700/700 [==============================] - 352s 502ms/step - loss: 0.6313 - acc: 0.7784 - val_loss: 0.7133 - val_acc: 0.7758\n",
            "Epoch 41/50\n",
            "700/700 [==============================] - 352s 503ms/step - loss: 0.6166 - acc: 0.7836 - val_loss: 0.6711 - val_acc: 0.7806\n",
            "Epoch 42/50\n",
            "700/700 [==============================] - 353s 505ms/step - loss: 0.6194 - acc: 0.7839 - val_loss: 0.6691 - val_acc: 0.7875\n",
            "Epoch 43/50\n",
            "700/700 [==============================] - 353s 504ms/step - loss: 0.6248 - acc: 0.7826 - val_loss: 0.6958 - val_acc: 0.7779\n",
            "Epoch 44/50\n",
            "700/700 [==============================] - 353s 504ms/step - loss: 0.6146 - acc: 0.7867 - val_loss: 0.6426 - val_acc: 0.7936\n",
            "Epoch 45/50\n",
            "700/700 [==============================] - 353s 505ms/step - loss: 0.6135 - acc: 0.7852 - val_loss: 0.7330 - val_acc: 0.7705\n",
            "Epoch 46/50\n",
            "700/700 [==============================] - 354s 506ms/step - loss: 0.6093 - acc: 0.7879 - val_loss: 0.6525 - val_acc: 0.7865\n",
            "Epoch 47/50\n",
            "700/700 [==============================] - 356s 508ms/step - loss: 0.6086 - acc: 0.7880 - val_loss: 0.6153 - val_acc: 0.7970\n",
            "Epoch 48/50\n",
            "700/700 [==============================] - 353s 505ms/step - loss: 0.6067 - acc: 0.7873 - val_loss: 0.6383 - val_acc: 0.7917\n",
            "Epoch 49/50\n",
            "700/700 [==============================] - 356s 508ms/step - loss: 0.6020 - acc: 0.7910 - val_loss: 0.6231 - val_acc: 0.8009\n",
            "Epoch 50/50\n",
            "700/700 [==============================] - 359s 513ms/step - loss: 0.5948 - acc: 0.7935 - val_loss: 0.6912 - val_acc: 0.7833\n"
          ],
          "name": "stdout"
        }
      ]
    },
    {
      "cell_type": "code",
      "metadata": {
        "id": "gJVyC4bBD4ig",
        "colab": {
          "base_uri": "https://localhost:8080/",
          "height": 545
        },
        "outputId": "fec96464-bea2-4184-a8c1-97d8bf3f4e4a"
      },
      "source": [
        "acc = history.history['acc']\n",
        "val_acc = history.history['val_acc']\n",
        "loss = history.history['loss']\n",
        "val_loss = history.history['val_loss']\n",
        "\n",
        "epochs = range(len(acc))\n",
        "\n",
        "plt.plot(epochs, acc, 'bo', label='Training acc')\n",
        "plt.plot(epochs, val_acc, 'b', label='Validation acc')\n",
        "plt.title('Training and validation accuracy')\n",
        "plt.legend()\n",
        "\n",
        "plt.figure()\n",
        "\n",
        "plt.plot(epochs, loss, 'bo', label='Training loss')\n",
        "plt.plot(epochs, val_loss, 'b', label='Validation loss')\n",
        "plt.title('Training and validation loss')\n",
        "plt.legend()\n",
        "\n",
        "plt.show()"
      ],
      "execution_count": 11,
      "outputs": [
        {
          "output_type": "display_data",
          "data": {
            "image/png": "[encoded data removed]",
            "text/plain": [
              "<Figure size 432x288 with 1 Axes>"
            ]
          },
          "metadata": {
            "tags": [],
            "needs_background": "light"
          }
        },
        {
          "output_type": "display_data",
          "data": {
            "image/png": "[encoded data removed]",
            "text/plain": [
              "<Figure size 432x288 with 1 Axes>"
            ]
          },
          "metadata": {
            "tags": [],
            "needs_background": "light"
          }
        }
      ]
    },
    {
      "cell_type": "code",
      "metadata": {
        "colab": {
          "base_uri": "https://localhost:8080/"
        },
        "id": "k7clPcyK0VhQ",
        "outputId": "ca9e5c51-b4e2-46c3-b92c-352e5e186c9b"
      },
      "source": [
        "test_loss, test_acc = model.evaluate(newInpTest,  tarTest)"
      ],
      "execution_count": 12,
      "outputs": [
        {
          "output_type": "stream",
          "text": [
            "313/313 [==============================] - 20s 63ms/step - loss: 0.6912 - acc: 0.7833\n"
          ],
          "name": "stdout"
        }
      ]
    },
    {
      "cell_type": "markdown",
      "metadata": {
        "id": "rBj0Whzk2EYi"
      },
      "source": [
        "The model reached an accuracy of 78.33% with a loss of 0.6912. The graphs are also demonstrate that using both Dropout layers and data augmentation helped reduce the chances of the model overfitting. \n",
        "\n",
        "There is room for improvement to get higher accuracy values. This model was fairly simple with only 2 Conv2D blocks, but using more blocks would improve the overall model, though as the model becomes more complex training time takes longer. Alternatively fine-tuning a pretrained model such as InceptionV3 would see drastic improvements in performance."
      ]
    },
    {
      "cell_type": "code",
      "metadata": {
        "id": "rUSMNKAo3WZz"
      },
      "source": [
        ""
      ],
      "execution_count": 13,
      "outputs": []
    }
  ]
}