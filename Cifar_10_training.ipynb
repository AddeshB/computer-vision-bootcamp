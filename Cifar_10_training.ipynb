{
  "nbformat": 4,
  "nbformat_minor": 0,
  "metadata": {
    "colab": {
      "name": "Cifar-10 training.ipynb",
      "provenance": [],
      "collapsed_sections": [],
      "authorship_tag": "ABX9TyP/VX5D77yvD1jM2SVt90pp",
      "include_colab_link": true
    },
    "kernelspec": {
      "name": "python3",
      "display_name": "Python 3"
    },
    "accelerator": "GPU"
  },
  "cells": [
    {
      "cell_type": "markdown",
      "metadata": {
        "id": "view-in-github",
        "colab_type": "text"
      },
      "source": [
        "<a href=\"https://colab.research.google.com/github/rayjinghaolei/computer-vision-bootcamp/blob/Rayjinghaolei_bootcamp/Cifar_10_training.ipynb\" target=\"_parent\"><img src=\"https://colab.research.google.com/assets/colab-badge.svg\" alt=\"Open In Colab\"/></a>"
      ]
    },
    {
      "cell_type": "code",
      "metadata": {
        "id": "tfkGq5aFTwSh"
      },
      "source": [
        "import numpy as np\r\n",
        "import pandas as pd\r\n",
        "import tensorflow as tf\r\n",
        "from tensorflow import keras\r\n",
        "import matplotlib.pyplot as plt\r\n",
        "import os\r\n",
        "from tensorflow.keras.layers import Dense, Conv2D, MaxPool2D, Flatten, Dropout, BatchNormalization"
      ],
      "execution_count": 1,
      "outputs": []
    },
    {
      "cell_type": "code",
      "metadata": {
        "id": "2nnmeCy7SpKL"
      },
      "source": [
        "from keras.datasets import cifar10"
      ],
      "execution_count": 2,
      "outputs": []
    },
    {
      "cell_type": "code",
      "metadata": {
        "id": "RL9wOhrvTC6s"
      },
      "source": [
        "(x_train, y_train), (x_test, y_test) = cifar10.load_data()"
      ],
      "execution_count": 3,
      "outputs": []
    },
    {
      "cell_type": "code",
      "metadata": {
        "id": "X8S7nZwTTZZM"
      },
      "source": [
        "CLASS_NAMES= ['airplane', 'automobile', 'bird', 'cat', 'deer', 'dog', 'frog', 'horse', 'ship', 'truck']"
      ],
      "execution_count": 4,
      "outputs": []
    },
    {
      "cell_type": "code",
      "metadata": {
        "id": "eqL2-DPj2h3j"
      },
      "source": [
        "x_train = x_train / 255\r\n",
        "x_test = x_test / 255"
      ],
      "execution_count": 5,
      "outputs": []
    },
    {
      "cell_type": "code",
      "metadata": {
        "id": "fd2kP2Hj26wh"
      },
      "source": [
        "from tensorflow.keras.utils import to_categorical"
      ],
      "execution_count": 6,
      "outputs": []
    },
    {
      "cell_type": "code",
      "metadata": {
        "id": "n9R_Fysy29qT"
      },
      "source": [
        "y_cat_train = to_categorical(y_train, 10)\r\n",
        "y_cat_test = to_categorical(y_test, 10)"
      ],
      "execution_count": 7,
      "outputs": []
    },
    {
      "cell_type": "code",
      "metadata": {
        "id": "KWvVDcGCnuQ0"
      },
      "source": [
        "\r\n",
        "#model building\r\n",
        "model=keras.models.Sequential()\r\n",
        "# Convolutional Layer\r\n",
        "model.add(Conv2D(filters=32, kernel_size=(3, 3), input_shape=(32, 32, 3), activation='relu', padding='same'))\r\n",
        "model.add(BatchNormalization())\r\n",
        "model.add(Conv2D(filters=32, kernel_size=(3, 3), input_shape=(32, 32, 3), activation='relu', padding='same'))\r\n",
        "model.add(BatchNormalization())\r\n",
        "# Pooling layer\r\n",
        "model.add(MaxPool2D(pool_size=(2, 2)))\r\n",
        "# Dropout layers\r\n",
        "model.add(Dropout(0.25))\r\n",
        "\r\n",
        "model.add(Conv2D(filters=64, kernel_size=(3, 3), input_shape=(32, 32, 3), activation='relu', padding='same'))\r\n",
        "model.add(BatchNormalization())\r\n",
        "model.add(Conv2D(filters=64, kernel_size=(3, 3), input_shape=(32, 32, 3), activation='relu', padding='same'))\r\n",
        "model.add(BatchNormalization())\r\n",
        "model.add(MaxPool2D(pool_size=(2, 2)))\r\n",
        "model.add(Dropout(0.25))\r\n",
        "\r\n",
        "model.add(Conv2D(filters=128, kernel_size=(3, 3), input_shape=(32, 32, 3), activation='relu', padding='same'))\r\n",
        "model.add(BatchNormalization())\r\n",
        "model.add(Conv2D(filters=128, kernel_size=(3, 3), input_shape=(32, 32, 3), activation='relu', padding='same'))\r\n",
        "model.add(BatchNormalization())\r\n",
        "model.add(MaxPool2D(pool_size=(2, 2)))\r\n",
        "model.add(Dropout(0.25))\r\n",
        "\r\n",
        "model.add(Flatten())\r\n",
        "# model.add(Dropout(0.2))\r\n",
        "model.add(Dense(128, activation='relu'))\r\n",
        "model.add(Dropout(0.25))\r\n",
        "model.add(Dense(10, activation='softmax'))\r\n",
        "\r\n",
        "METRICS = [\r\n",
        "    'accuracy',\r\n",
        "    tf.keras.metrics.Precision(name='precision'),\r\n",
        "    tf.keras.metrics.Recall(name='recall')\r\n",
        "]\r\n",
        "model.compile(loss='categorical_crossentropy', optimizer='adam', metrics=METRICS)"
      ],
      "execution_count": 8,
      "outputs": []
    },
    {
      "cell_type": "code",
      "metadata": {
        "colab": {
          "base_uri": "https://localhost:8080/"
        },
        "id": "txjuDR9Sukez",
        "outputId": "898aad35-bc36-46d9-adcd-0581b679949e"
      },
      "source": [
        "model.summary()"
      ],
      "execution_count": 9,
      "outputs": [
        {
          "output_type": "stream",
          "text": [
            "Model: \"sequential\"\n",
            "_________________________________________________________________\n",
            "Layer (type)                 Output Shape              Param #   \n",
            "=================================================================\n",
            "conv2d (Conv2D)              (None, 32, 32, 32)        896       \n",
            "_________________________________________________________________\n",
            "batch_normalization (BatchNo (None, 32, 32, 32)        128       \n",
            "_________________________________________________________________\n",
            "conv2d_1 (Conv2D)            (None, 32, 32, 32)        9248      \n",
            "_________________________________________________________________\n",
            "batch_normalization_1 (Batch (None, 32, 32, 32)        128       \n",
            "_________________________________________________________________\n",
            "max_pooling2d (MaxPooling2D) (None, 16, 16, 32)        0         \n",
            "_________________________________________________________________\n",
            "dropout (Dropout)            (None, 16, 16, 32)        0         \n",
            "_________________________________________________________________\n",
            "conv2d_2 (Conv2D)            (None, 16, 16, 64)        18496     \n",
            "_________________________________________________________________\n",
            "batch_normalization_2 (Batch (None, 16, 16, 64)        256       \n",
            "_________________________________________________________________\n",
            "conv2d_3 (Conv2D)            (None, 16, 16, 64)        36928     \n",
            "_________________________________________________________________\n",
            "batch_normalization_3 (Batch (None, 16, 16, 64)        256       \n",
            "_________________________________________________________________\n",
            "max_pooling2d_1 (MaxPooling2 (None, 8, 8, 64)          0         \n",
            "_________________________________________________________________\n",
            "dropout_1 (Dropout)          (None, 8, 8, 64)          0         \n",
            "_________________________________________________________________\n",
            "conv2d_4 (Conv2D)            (None, 8, 8, 128)         73856     \n",
            "_________________________________________________________________\n",
            "batch_normalization_4 (Batch (None, 8, 8, 128)         512       \n",
            "_________________________________________________________________\n",
            "conv2d_5 (Conv2D)            (None, 8, 8, 128)         147584    \n",
            "_________________________________________________________________\n",
            "batch_normalization_5 (Batch (None, 8, 8, 128)         512       \n",
            "_________________________________________________________________\n",
            "max_pooling2d_2 (MaxPooling2 (None, 4, 4, 128)         0         \n",
            "_________________________________________________________________\n",
            "dropout_2 (Dropout)          (None, 4, 4, 128)         0         \n",
            "_________________________________________________________________\n",
            "flatten (Flatten)            (None, 2048)              0         \n",
            "_________________________________________________________________\n",
            "dense (Dense)                (None, 128)               262272    \n",
            "_________________________________________________________________\n",
            "dropout_3 (Dropout)          (None, 128)               0         \n",
            "_________________________________________________________________\n",
            "dense_1 (Dense)              (None, 10)                1290      \n",
            "=================================================================\n",
            "Total params: 552,362\n",
            "Trainable params: 551,466\n",
            "Non-trainable params: 896\n",
            "_________________________________________________________________\n"
          ],
          "name": "stdout"
        }
      ]
    },
    {
      "cell_type": "code",
      "metadata": {
        "id": "D0SY9BRA3Iep"
      },
      "source": [
        "from tensorflow.keras.callbacks import EarlyStopping\r\n",
        "\r\n",
        "early_stop = EarlyStopping(monitor='val_loss', patience=2)"
      ],
      "execution_count": 10,
      "outputs": []
    },
    {
      "cell_type": "code",
      "metadata": {
        "id": "I2NKS0I03KRD"
      },
      "source": [
        "from tensorflow.keras.preprocessing.image import ImageDataGenerator\r\n",
        "\r\n",
        "batch_size = 32\r\n",
        "data_generator = ImageDataGenerator(width_shift_range=0.1, height_shift_range=0.1, horizontal_flip=True)\r\n",
        "train_generator = data_generator.flow(x_train, y_cat_train, batch_size)\r\n",
        "steps_per_epoch = x_train.shape[0] // batch_size"
      ],
      "execution_count": 13,
      "outputs": []
    },
    {
      "cell_type": "code",
      "metadata": {
        "id": "kF9fxUFK3Nt1"
      },
      "source": [
        ""
      ],
      "execution_count": 13,
      "outputs": []
    },
    {
      "cell_type": "code",
      "metadata": {
        "colab": {
          "base_uri": "https://localhost:8080/"
        },
        "id": "aMT5E9Hxu3bN",
        "outputId": "22ca75dc-7f8e-4c53-a2cd-0911c072655b"
      },
      "source": [
        "r = model.fit(train_generator, \r\n",
        "              epochs=50,\r\n",
        "              steps_per_epoch=steps_per_epoch,\r\n",
        "              validation_data=(x_test, y_cat_test), \r\n",
        "#               callbacks=[early_stop],\r\n",
        "#               batch_size=batch_size,\r\n",
        "             )"
      ],
      "execution_count": 15,
      "outputs": [
        {
          "output_type": "stream",
          "text": [
            "Epoch 1/50\n",
            "1562/1562 [==============================] - 38s 19ms/step - loss: 1.8975 - accuracy: 0.3304 - precision: 0.5019 - recall: 0.1214 - val_loss: 1.8349 - val_accuracy: 0.4360 - val_precision: 0.4968 - val_recall: 0.3472\n",
            "Epoch 2/50\n",
            "1562/1562 [==============================] - 30s 19ms/step - loss: 1.3010 - accuracy: 0.5357 - precision: 0.7089 - recall: 0.3601 - val_loss: 0.9857 - val_accuracy: 0.6576 - val_precision: 0.7797 - val_recall: 0.5452\n",
            "Epoch 3/50\n",
            "1562/1562 [==============================] - 30s 19ms/step - loss: 1.0926 - accuracy: 0.6182 - precision: 0.7600 - recall: 0.4780 - val_loss: 0.9330 - val_accuracy: 0.6718 - val_precision: 0.7736 - val_recall: 0.5889\n",
            "Epoch 4/50\n",
            "1562/1562 [==============================] - 30s 19ms/step - loss: 0.9634 - accuracy: 0.6702 - precision: 0.7938 - recall: 0.5512 - val_loss: 0.8977 - val_accuracy: 0.7002 - val_precision: 0.7935 - val_recall: 0.5979\n",
            "Epoch 5/50\n",
            "1562/1562 [==============================] - 29s 19ms/step - loss: 0.8879 - accuracy: 0.6963 - precision: 0.8071 - recall: 0.5920 - val_loss: 0.8493 - val_accuracy: 0.7054 - val_precision: 0.8018 - val_recall: 0.6263\n",
            "Epoch 6/50\n",
            "1562/1562 [==============================] - 29s 19ms/step - loss: 0.8227 - accuracy: 0.7199 - precision: 0.8232 - recall: 0.6254 - val_loss: 0.9696 - val_accuracy: 0.6839 - val_precision: 0.7546 - val_recall: 0.6229\n",
            "Epoch 7/50\n",
            "1562/1562 [==============================] - 29s 19ms/step - loss: 0.7702 - accuracy: 0.7438 - precision: 0.8322 - recall: 0.6559 - val_loss: 0.6881 - val_accuracy: 0.7740 - val_precision: 0.8401 - val_recall: 0.7122\n",
            "Epoch 8/50\n",
            "1562/1562 [==============================] - 29s 19ms/step - loss: 0.7473 - accuracy: 0.7486 - precision: 0.8340 - recall: 0.6648 - val_loss: 0.7989 - val_accuracy: 0.7454 - val_precision: 0.8083 - val_recall: 0.6943\n",
            "Epoch 9/50\n",
            "1562/1562 [==============================] - 29s 19ms/step - loss: 0.7109 - accuracy: 0.7576 - precision: 0.8400 - recall: 0.6840 - val_loss: 0.6295 - val_accuracy: 0.7894 - val_precision: 0.8503 - val_recall: 0.7393\n",
            "Epoch 10/50\n",
            "1562/1562 [==============================] - 29s 19ms/step - loss: 0.6761 - accuracy: 0.7724 - precision: 0.8473 - recall: 0.6986 - val_loss: 0.6415 - val_accuracy: 0.7900 - val_precision: 0.8526 - val_recall: 0.7315\n",
            "Epoch 11/50\n",
            "1562/1562 [==============================] - 29s 19ms/step - loss: 0.6486 - accuracy: 0.7792 - precision: 0.8532 - recall: 0.7121 - val_loss: 0.6805 - val_accuracy: 0.7720 - val_precision: 0.8385 - val_recall: 0.7207\n",
            "Epoch 12/50\n",
            "1562/1562 [==============================] - 29s 19ms/step - loss: 0.6145 - accuracy: 0.7894 - precision: 0.8621 - recall: 0.7282 - val_loss: 0.5526 - val_accuracy: 0.8199 - val_precision: 0.8773 - val_recall: 0.7645\n",
            "Epoch 13/50\n",
            "1562/1562 [==============================] - 29s 19ms/step - loss: 0.6108 - accuracy: 0.7920 - precision: 0.8594 - recall: 0.7297 - val_loss: 0.6518 - val_accuracy: 0.7881 - val_precision: 0.8369 - val_recall: 0.7427\n",
            "Epoch 14/50\n",
            "1562/1562 [==============================] - 29s 19ms/step - loss: 0.5949 - accuracy: 0.8021 - precision: 0.8633 - recall: 0.7419 - val_loss: 0.6144 - val_accuracy: 0.8066 - val_precision: 0.8599 - val_recall: 0.7641\n",
            "Epoch 15/50\n",
            "1562/1562 [==============================] - 29s 19ms/step - loss: 0.5670 - accuracy: 0.8070 - precision: 0.8674 - recall: 0.7507 - val_loss: 0.6206 - val_accuracy: 0.7944 - val_precision: 0.8526 - val_recall: 0.7548\n",
            "Epoch 16/50\n",
            "1562/1562 [==============================] - 29s 19ms/step - loss: 0.5625 - accuracy: 0.8090 - precision: 0.8692 - recall: 0.7528 - val_loss: 0.5180 - val_accuracy: 0.8312 - val_precision: 0.8860 - val_recall: 0.7847\n",
            "Epoch 17/50\n",
            "1562/1562 [==============================] - 29s 19ms/step - loss: 0.5336 - accuracy: 0.8161 - precision: 0.8740 - recall: 0.7622 - val_loss: 0.5107 - val_accuracy: 0.8365 - val_precision: 0.8779 - val_recall: 0.7995\n",
            "Epoch 18/50\n",
            "1562/1562 [==============================] - 29s 19ms/step - loss: 0.5215 - accuracy: 0.8237 - precision: 0.8768 - recall: 0.7735 - val_loss: 0.4825 - val_accuracy: 0.8405 - val_precision: 0.8847 - val_recall: 0.8054\n",
            "Epoch 19/50\n",
            "1562/1562 [==============================] - 30s 19ms/step - loss: 0.5143 - accuracy: 0.8267 - precision: 0.8807 - recall: 0.7775 - val_loss: 0.4945 - val_accuracy: 0.8418 - val_precision: 0.8802 - val_recall: 0.8121\n",
            "Epoch 20/50\n",
            "1562/1562 [==============================] - 30s 19ms/step - loss: 0.5098 - accuracy: 0.8260 - precision: 0.8791 - recall: 0.7799 - val_loss: 0.4829 - val_accuracy: 0.8429 - val_precision: 0.8845 - val_recall: 0.8111\n",
            "Epoch 21/50\n",
            "1562/1562 [==============================] - 29s 19ms/step - loss: 0.5039 - accuracy: 0.8287 - precision: 0.8812 - recall: 0.7822 - val_loss: 0.4421 - val_accuracy: 0.8546 - val_precision: 0.8923 - val_recall: 0.8234\n",
            "Epoch 22/50\n",
            "1562/1562 [==============================] - 29s 19ms/step - loss: 0.4960 - accuracy: 0.8330 - precision: 0.8826 - recall: 0.7862 - val_loss: 0.5436 - val_accuracy: 0.8257 - val_precision: 0.8661 - val_recall: 0.7910\n",
            "Epoch 23/50\n",
            "1562/1562 [==============================] - 29s 19ms/step - loss: 0.4839 - accuracy: 0.8356 - precision: 0.8850 - recall: 0.7909 - val_loss: 0.4801 - val_accuracy: 0.8414 - val_precision: 0.8798 - val_recall: 0.8100\n",
            "Epoch 24/50\n",
            "1562/1562 [==============================] - 29s 19ms/step - loss: 0.4721 - accuracy: 0.8389 - precision: 0.8889 - recall: 0.7967 - val_loss: 0.5570 - val_accuracy: 0.8206 - val_precision: 0.8634 - val_recall: 0.7885\n",
            "Epoch 25/50\n",
            "1562/1562 [==============================] - 29s 19ms/step - loss: 0.4571 - accuracy: 0.8438 - precision: 0.8900 - recall: 0.8019 - val_loss: 0.5060 - val_accuracy: 0.8345 - val_precision: 0.8732 - val_recall: 0.8024\n",
            "Epoch 26/50\n",
            "1562/1562 [==============================] - 29s 19ms/step - loss: 0.4588 - accuracy: 0.8440 - precision: 0.8894 - recall: 0.8037 - val_loss: 0.4594 - val_accuracy: 0.8516 - val_precision: 0.8896 - val_recall: 0.8172\n",
            "Epoch 27/50\n",
            "1562/1562 [==============================] - 29s 19ms/step - loss: 0.4487 - accuracy: 0.8459 - precision: 0.8919 - recall: 0.8048 - val_loss: 0.4628 - val_accuracy: 0.8499 - val_precision: 0.8875 - val_recall: 0.8199\n",
            "Epoch 28/50\n",
            "1562/1562 [==============================] - 29s 19ms/step - loss: 0.4353 - accuracy: 0.8499 - precision: 0.8943 - recall: 0.8098 - val_loss: 0.4328 - val_accuracy: 0.8584 - val_precision: 0.8911 - val_recall: 0.8334\n",
            "Epoch 29/50\n",
            "1562/1562 [==============================] - 29s 19ms/step - loss: 0.4352 - accuracy: 0.8536 - precision: 0.8961 - recall: 0.8142 - val_loss: 0.4182 - val_accuracy: 0.8606 - val_precision: 0.9001 - val_recall: 0.8270\n",
            "Epoch 30/50\n",
            "1562/1562 [==============================] - 29s 19ms/step - loss: 0.4313 - accuracy: 0.8520 - precision: 0.8958 - recall: 0.8136 - val_loss: 0.4683 - val_accuracy: 0.8462 - val_precision: 0.8844 - val_recall: 0.8146\n",
            "Epoch 31/50\n",
            "1562/1562 [==============================] - 30s 19ms/step - loss: 0.4308 - accuracy: 0.8552 - precision: 0.8957 - recall: 0.8168 - val_loss: 0.4074 - val_accuracy: 0.8639 - val_precision: 0.8966 - val_recall: 0.8346\n",
            "Epoch 32/50\n",
            "1562/1562 [==============================] - 29s 19ms/step - loss: 0.4238 - accuracy: 0.8583 - precision: 0.8978 - recall: 0.8194 - val_loss: 0.4431 - val_accuracy: 0.8511 - val_precision: 0.8899 - val_recall: 0.8180\n",
            "Epoch 33/50\n",
            "1562/1562 [==============================] - 30s 19ms/step - loss: 0.4157 - accuracy: 0.8574 - precision: 0.8962 - recall: 0.8197 - val_loss: 0.4571 - val_accuracy: 0.8519 - val_precision: 0.8850 - val_recall: 0.8246\n",
            "Epoch 34/50\n",
            "1562/1562 [==============================] - 29s 19ms/step - loss: 0.4248 - accuracy: 0.8542 - precision: 0.8966 - recall: 0.8177 - val_loss: 0.4192 - val_accuracy: 0.8615 - val_precision: 0.8990 - val_recall: 0.8292\n",
            "Epoch 35/50\n",
            "1562/1562 [==============================] - 29s 19ms/step - loss: 0.4161 - accuracy: 0.8599 - precision: 0.8991 - recall: 0.8217 - val_loss: 0.4748 - val_accuracy: 0.8522 - val_precision: 0.8811 - val_recall: 0.8307\n",
            "Epoch 36/50\n",
            "1562/1562 [==============================] - 29s 19ms/step - loss: 0.4023 - accuracy: 0.8620 - precision: 0.9010 - recall: 0.8282 - val_loss: 0.4326 - val_accuracy: 0.8595 - val_precision: 0.8907 - val_recall: 0.8321\n",
            "Epoch 37/50\n",
            "1562/1562 [==============================] - 29s 19ms/step - loss: 0.4069 - accuracy: 0.8601 - precision: 0.8988 - recall: 0.8262 - val_loss: 0.4452 - val_accuracy: 0.8550 - val_precision: 0.8884 - val_recall: 0.8299\n",
            "Epoch 38/50\n",
            "1562/1562 [==============================] - 29s 19ms/step - loss: 0.3935 - accuracy: 0.8618 - precision: 0.8998 - recall: 0.8283 - val_loss: 0.4496 - val_accuracy: 0.8577 - val_precision: 0.8881 - val_recall: 0.8322\n",
            "Epoch 39/50\n",
            "1562/1562 [==============================] - 29s 19ms/step - loss: 0.3941 - accuracy: 0.8660 - precision: 0.9026 - recall: 0.8344 - val_loss: 0.3963 - val_accuracy: 0.8695 - val_precision: 0.8998 - val_recall: 0.8431\n",
            "Epoch 40/50\n",
            "1562/1562 [==============================] - 29s 19ms/step - loss: 0.3836 - accuracy: 0.8678 - precision: 0.9037 - recall: 0.8356 - val_loss: 0.4405 - val_accuracy: 0.8543 - val_precision: 0.8882 - val_recall: 0.8249\n",
            "Epoch 41/50\n",
            "1562/1562 [==============================] - 29s 19ms/step - loss: 0.3903 - accuracy: 0.8678 - precision: 0.9037 - recall: 0.8351 - val_loss: 0.4217 - val_accuracy: 0.8644 - val_precision: 0.8918 - val_recall: 0.8424\n",
            "Epoch 42/50\n",
            "1562/1562 [==============================] - 29s 19ms/step - loss: 0.3883 - accuracy: 0.8659 - precision: 0.9028 - recall: 0.8342 - val_loss: 0.4673 - val_accuracy: 0.8519 - val_precision: 0.8831 - val_recall: 0.8286\n",
            "Epoch 43/50\n",
            "1562/1562 [==============================] - 29s 19ms/step - loss: 0.3876 - accuracy: 0.8689 - precision: 0.9044 - recall: 0.8375 - val_loss: 0.3948 - val_accuracy: 0.8691 - val_precision: 0.9026 - val_recall: 0.8448\n",
            "Epoch 44/50\n",
            "1562/1562 [==============================] - 29s 19ms/step - loss: 0.3814 - accuracy: 0.8705 - precision: 0.9039 - recall: 0.8388 - val_loss: 0.3961 - val_accuracy: 0.8698 - val_precision: 0.9018 - val_recall: 0.8426\n",
            "Epoch 45/50\n",
            "1562/1562 [==============================] - 29s 19ms/step - loss: 0.3747 - accuracy: 0.8718 - precision: 0.9068 - recall: 0.8401 - val_loss: 0.3783 - val_accuracy: 0.8745 - val_precision: 0.9039 - val_recall: 0.8541\n",
            "Epoch 46/50\n",
            "1562/1562 [==============================] - 29s 19ms/step - loss: 0.3800 - accuracy: 0.8706 - precision: 0.9043 - recall: 0.8397 - val_loss: 0.4295 - val_accuracy: 0.8620 - val_precision: 0.8933 - val_recall: 0.8378\n",
            "Epoch 47/50\n",
            "1562/1562 [==============================] - 29s 19ms/step - loss: 0.3626 - accuracy: 0.8754 - precision: 0.9092 - recall: 0.8455 - val_loss: 0.3797 - val_accuracy: 0.8723 - val_precision: 0.9044 - val_recall: 0.8462\n",
            "Epoch 48/50\n",
            "1562/1562 [==============================] - 29s 19ms/step - loss: 0.3680 - accuracy: 0.8741 - precision: 0.9070 - recall: 0.8421 - val_loss: 0.3812 - val_accuracy: 0.8744 - val_precision: 0.9039 - val_recall: 0.8511\n",
            "Epoch 49/50\n",
            "1562/1562 [==============================] - 29s 19ms/step - loss: 0.3606 - accuracy: 0.8775 - precision: 0.9096 - recall: 0.8478 - val_loss: 0.4221 - val_accuracy: 0.8644 - val_precision: 0.8926 - val_recall: 0.8443\n",
            "Epoch 50/50\n",
            "1562/1562 [==============================] - 29s 19ms/step - loss: 0.3599 - accuracy: 0.8774 - precision: 0.9103 - recall: 0.8473 - val_loss: 0.3933 - val_accuracy: 0.8708 - val_precision: 0.9035 - val_recall: 0.8438\n"
          ],
          "name": "stdout"
        }
      ]
    },
    {
      "cell_type": "code",
      "metadata": {
        "id": "6i6WLh6vvPqm",
        "colab": {
          "base_uri": "https://localhost:8080/",
          "height": 497
        },
        "outputId": "94aeaa7b-57d7-4bb1-f329-ffcb4cf31f76"
      },
      "source": [
        "plt.figure(figsize=(12, 16))\r\n",
        "\r\n",
        "plt.subplot(4, 2, 1)\r\n",
        "plt.plot(r.history['loss'], label='Loss')\r\n",
        "plt.plot(r.history['val_loss'], label='val_Loss')\r\n",
        "plt.title('Loss Function Evolution')\r\n",
        "plt.legend()\r\n",
        "\r\n",
        "plt.subplot(4, 2, 2)\r\n",
        "plt.plot(r.history['accuracy'], label='accuracy')\r\n",
        "plt.plot(r.history['val_accuracy'], label='val_accuracy')\r\n",
        "plt.title('Accuracy Function Evolution')\r\n",
        "plt.legend()\r\n",
        "\r\n",
        "plt.subplot(4, 2, 3)\r\n",
        "plt.plot(r.history['precision'], label='precision')\r\n",
        "plt.plot(r.history['val_precision'], label='val_precision')\r\n",
        "plt.title('Precision Function Evolution')\r\n",
        "plt.legend()\r\n",
        "\r\n",
        "plt.subplot(4, 2, 4)\r\n",
        "plt.plot(r.history['recall'], label='recall')\r\n",
        "plt.plot(r.history['val_recall'], label='val_recall')\r\n",
        "plt.title('Recall Function Evolution')\r\n",
        "plt.legend()"
      ],
      "execution_count": 16,
      "outputs": [
        {
          "output_type": "execute_result",
          "data": {
            "text/plain": [
              "<matplotlib.legend.Legend at 0x7f49d0500d68>"
            ]
          },
          "metadata": {
            "tags": []
          },
          "execution_count": 16
        },
        {
          "output_type": "display_data",
          "data": {
            "image/png": "[encoded data removed]",
            "text/plain": [
              "<Figure size 864x1152 with 4 Axes>"
            ]
          },
          "metadata": {
            "tags": [],
            "needs_background": "light"
          }
        }
      ]
    },
    {
      "cell_type": "code",
      "metadata": {
        "colab": {
          "base_uri": "https://localhost:8080/"
        },
        "id": "KwuzN8d8CAGt",
        "outputId": "a3f4457c-92d9-4eb5-8c27-cd75985d9c30"
      },
      "source": [
        "evaluation = model.evaluate(x_test, y_cat_test)\r\n",
        "print(f'Test Accuracy : {evaluation[1] * 100:.2f}%')"
      ],
      "execution_count": 18,
      "outputs": [
        {
          "output_type": "stream",
          "text": [
            "313/313 [==============================] - 1s 5ms/step - loss: 0.3933 - accuracy: 0.8708 - precision: 0.9035 - recall: 0.8438\n",
            "Test Accuracy : 87.08%\n"
          ],
          "name": "stdout"
        }
      ]
    },
    {
      "cell_type": "code",
      "metadata": {
        "id": "xlfT6TmLCF1O"
      },
      "source": [
        ""
      ],
      "execution_count": null,
      "outputs": []
    }
  ]
}